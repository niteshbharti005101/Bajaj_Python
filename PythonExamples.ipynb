{
 "cells": [
  {
   "cell_type": "code",
   "execution_count": 13,
   "metadata": {},
   "outputs": [
    {
     "name": "stdout",
     "output_type": "stream",
     "text": [
      "10\n"
     ]
    }
   ],
   "source": [
    "a=10 #integer\n",
    "b=3.142 #float\n",
    "c=10+6j #in the form of a+bj complex numbers\n",
    "print(a)"
   ]
  },
  {
   "cell_type": "code",
   "execution_count": 2,
   "metadata": {},
   "outputs": [
    {
     "name": "stdout",
     "output_type": "stream",
     "text": [
      "3 10.0 (10+6j)\n"
     ]
    }
   ],
   "source": [
    "a=10 #integer\n",
    "b=3.142 #float\n",
    "c=10+6j #in the form of a+bj complex numbers\n",
    "print(int(b),float(a),str(c))"
   ]
  },
  {
   "cell_type": "code",
   "execution_count": 3,
   "metadata": {},
   "outputs": [
    {
     "name": "stdout",
     "output_type": "stream",
     "text": [
      "['3', '10.6', 'cherry']\n"
     ]
    }
   ],
   "source": [
    "#List - square brackets\n",
    "myList=[\"3\",\"10.6\",\"cherry\"]\n",
    "print(myList)"
   ]
  },
  {
   "cell_type": "code",
   "execution_count": 5,
   "metadata": {},
   "outputs": [
    {
     "name": "stdout",
     "output_type": "stream",
     "text": [
      "('3', '10.6', 'cherry')\n"
     ]
    }
   ],
   "source": [
    "#Tuple - round brackets\n",
    "mytuple=(\"3\",\"10.6\",\"cherry\")\n",
    "print(mytuple)"
   ]
  },
  {
   "cell_type": "code",
   "execution_count": 6,
   "metadata": {},
   "outputs": [
    {
     "name": "stdout",
     "output_type": "stream",
     "text": [
      "{'brand': 'Ford', 'model': 'Mustang', 'Year': '2022'}\n"
     ]
    }
   ],
   "source": [
    "#dictionary -curly braces\n",
    "mydict={\n",
    "    \"brand\":\"Ford\",\n",
    "    \"model\":\"Mustang\",\n",
    "    \"Year\":\"2022\"\n",
    "}\n",
    "print(mydict)"
   ]
  },
  {
   "cell_type": "code",
   "execution_count": 8,
   "metadata": {},
   "outputs": [
    {
     "name": "stdout",
     "output_type": "stream",
     "text": [
      "{1, 2, 3, 4} {3, 4, 5, 6}\n"
     ]
    }
   ],
   "source": [
    "#Set\n",
    "a={1,2,3,4,4,4}\n",
    "b={3,4,5,6}\n",
    "print(a,b)"
   ]
  },
  {
   "cell_type": "code",
   "execution_count": 10,
   "metadata": {},
   "outputs": [
    {
     "name": "stdout",
     "output_type": "stream",
     "text": [
      "9\n",
      "3\n",
      "18\n",
      "2.0\n",
      "0\n",
      "2\n",
      "216\n"
     ]
    }
   ],
   "source": [
    "#Arithmetic Operators\n",
    "x=6\n",
    "y=3\n",
    "print(x+y)\n",
    "print(x-y)\n",
    "print(x*y)\n",
    "print(x/y)\n",
    "print(x%y)\n",
    "print(x//y)\n",
    "print(x**y)"
   ]
  },
  {
   "cell_type": "code",
   "execution_count": 11,
   "metadata": {},
   "outputs": [
    {
     "name": "stdout",
     "output_type": "stream",
     "text": [
      "2\n",
      "8\n"
     ]
    }
   ],
   "source": [
    "#Assignment Operator\n",
    "a = 2\n",
    "print(a)\n",
    "\n",
    "#Short-hand operator\n",
    "x+=2 #x=x+3\n",
    "print(x)"
   ]
  },
  {
   "cell_type": "code",
   "execution_count": 15,
   "metadata": {},
   "outputs": [
    {
     "name": "stdout",
     "output_type": "stream",
     "text": [
      "False\n",
      "True\n",
      "True\n",
      "False\n",
      "True\n",
      "False\n"
     ]
    }
   ],
   "source": [
    "#Comparison Operator\n",
    "x=5\n",
    "y=3\n",
    "print(x==y)\n",
    "print(x!=y)\n",
    "print(x>y)\n",
    "print(x<y)\n",
    "print(x>=y)\n",
    "print(x<=y)"
   ]
  },
  {
   "cell_type": "code",
   "execution_count": 19,
   "metadata": {},
   "outputs": [
    {
     "name": "stdout",
     "output_type": "stream",
     "text": [
      "True\n",
      "False\n",
      "True\n",
      "Comparing for is not\n",
      "False\n",
      "True\n",
      "False\n"
     ]
    }
   ],
   "source": [
    "#Identity Operator\n",
    "x=[\"white\",\"black\"]\n",
    "y=[\"white\",\"black\"]\n",
    "z=x\n",
    "print(x is z) #returns True, z is same as object x\n",
    "print(x is y) #returns False, y is not same as object x as declarations are different\n",
    "print(x == y) #returns True\n",
    "\n",
    "#Equals comparison takes for value, but 'is' comparison takes for object declaration\n",
    "print(\"Comparing for is not\")\n",
    "print(x is not z) #returns False, z is same as object x\n",
    "print(x is not y) #returns True, y is not same as object x as declarations are different\n",
    "print(x != y) #returns False"
   ]
  },
  {
   "cell_type": "code",
   "execution_count": 20,
   "metadata": {},
   "outputs": [
    {
     "name": "stdout",
     "output_type": "stream",
     "text": [
      "True\n",
      "False\n"
     ]
    }
   ],
   "source": [
    "#Membership Operator (x in y)\n",
    "x=[\"white\",\"black\"]\n",
    "a=\"black\"\n",
    "print(a in x) #returns True, a is a part of object x\n",
    "print(a not in x) #returns False"
   ]
  },
  {
   "cell_type": "code",
   "execution_count": 24,
   "metadata": {},
   "outputs": [
    {
     "name": "stdout",
     "output_type": "stream",
     "text": [
      "1\n",
      "2\n",
      "3\n",
      "4\n",
      "5\n"
     ]
    }
   ],
   "source": [
    "#Loops\n",
    "#while loop\n",
    "i=1\n",
    "while(i<6):\n",
    "    print(i)\n",
    "    i+=1 #i=i+1"
   ]
  },
  {
   "cell_type": "code",
   "execution_count": 23,
   "metadata": {},
   "outputs": [
    {
     "name": "stdout",
     "output_type": "stream",
     "text": [
      "1\n",
      "2\n",
      "3\n"
     ]
    }
   ],
   "source": [
    "#break statement\n",
    "i=1\n",
    "while(i<6):\n",
    "    print(i)\n",
    "    if(i==3):\n",
    "        break\n",
    "    i+=1 #i=i+1"
   ]
  },
  {
   "cell_type": "code",
   "execution_count": 26,
   "metadata": {},
   "outputs": [
    {
     "name": "stdout",
     "output_type": "stream",
     "text": [
      "1\n",
      "2\n",
      "4\n",
      "5\n",
      "6\n"
     ]
    }
   ],
   "source": [
    "#continue statement\n",
    "i=0\n",
    "while(i<6):\n",
    "    i+=1 #i=i+1\n",
    "    if(i==3):\n",
    "        continue\n",
    "    print(i) # 3  is missing"
   ]
  },
  {
   "cell_type": "code",
   "execution_count": 28,
   "metadata": {},
   "outputs": [
    {
     "name": "stdout",
     "output_type": "stream",
     "text": [
      "white\n",
      "black\n",
      "red\n"
     ]
    }
   ],
   "source": [
    "#For loops\n",
    "colors = [\"white\",\"black\",\"red\"]\n",
    "for x in colors:\n",
    "    print(x)"
   ]
  },
  {
   "cell_type": "code",
   "execution_count": 30,
   "metadata": {},
   "outputs": [
    {
     "name": "stdout",
     "output_type": "stream",
     "text": [
      "M\n",
      "e\n",
      "g\n",
      "h\n",
      "a\n",
      "n\n",
      "a\n"
     ]
    }
   ],
   "source": [
    "for y in \"Meghana\":\n",
    "    print(y)"
   ]
  },
  {
   "cell_type": "code",
   "execution_count": 31,
   "metadata": {},
   "outputs": [
    {
     "name": "stdout",
     "output_type": "stream",
     "text": [
      "white\n",
      "black\n"
     ]
    }
   ],
   "source": [
    "#Break statement\n",
    "colors = [\"white\",\"black\",\"red\"]\n",
    "for x in colors:\n",
    "    print(x)\n",
    "    if(x==\"black\"):\n",
    "        break"
   ]
  },
  {
   "cell_type": "code",
   "execution_count": 32,
   "metadata": {},
   "outputs": [
    {
     "name": "stdout",
     "output_type": "stream",
     "text": [
      "white\n",
      "red\n"
     ]
    }
   ],
   "source": [
    "#Continue statement\n",
    "colors = [\"white\",\"black\",\"red\"]\n",
    "for x in colors:\n",
    "    if(x==\"black\"):\n",
    "        continue\n",
    "    print(x)"
   ]
  },
  {
   "cell_type": "code",
   "execution_count": 33,
   "metadata": {},
   "outputs": [
    {
     "name": "stdout",
     "output_type": "stream",
     "text": [
      "0\n",
      "1\n",
      "2\n",
      "3\n",
      "4\n",
      "5\n",
      "6\n",
      "7\n"
     ]
    }
   ],
   "source": [
    "#Range function\n",
    "for x in range(8): #starts from 0 by default & increments by 1 by default\n",
    "    print(x)"
   ]
  },
  {
   "cell_type": "code",
   "execution_count": 34,
   "metadata": {},
   "outputs": [
    {
     "name": "stdout",
     "output_type": "stream",
     "text": [
      "3\n",
      "4\n",
      "5\n",
      "6\n",
      "7\n"
     ]
    }
   ],
   "source": [
    "#Range function\n",
    "for x in range(3,8): #starts from 3 & increments by 1 by default\n",
    "    print(x)"
   ]
  },
  {
   "cell_type": "code",
   "execution_count": 35,
   "metadata": {},
   "outputs": [
    {
     "name": "stdout",
     "output_type": "stream",
     "text": [
      "2\n",
      "4\n",
      "6\n",
      "8\n",
      "10\n"
     ]
    }
   ],
   "source": [
    "#Range function\n",
    "for x in range(2,11,2): #starts from 2 & increments by 2\n",
    "    print(x)"
   ]
  },
  {
   "cell_type": "code",
   "execution_count": 36,
   "metadata": {},
   "outputs": [
    {
     "name": "stdout",
     "output_type": "stream",
     "text": [
      "Hello from function.\n"
     ]
    }
   ],
   "source": [
    "#Python Functions\n",
    "def my_function(): #create a func\n",
    "    print(\"Hello from function.\")\n",
    "    \n",
    "#calling a function\n",
    "my_function()"
   ]
  },
  {
   "cell_type": "code",
   "execution_count": 38,
   "metadata": {},
   "outputs": [
    {
     "name": "stdout",
     "output_type": "stream",
     "text": [
      "MeghanaRaj\n",
      "HimanshiRaj\n",
      "BhartiRaj\n"
     ]
    }
   ],
   "source": [
    "#Arguments func\n",
    "def my_function(fname): #create a func\n",
    "    print(fname+\"Raj\")\n",
    "    \n",
    "#calling a function\n",
    "my_function(\"Meghana\")\n",
    "my_function(\"Himanshi\")\n",
    "my_function(\"Bharti\")"
   ]
  },
  {
   "cell_type": "code",
   "execution_count": 44,
   "metadata": {},
   "outputs": [
    {
     "name": "stderr",
     "output_type": "stream",
     "text": [
      "Python 3.6.4 :: Anaconda, Inc.\n"
     ]
    }
   ],
   "source": [
    "!python --version"
   ]
  },
  {
   "cell_type": "code",
   "execution_count": 45,
   "metadata": {},
   "outputs": [
    {
     "name": "stdout",
     "output_type": "stream",
     "text": [
      "Python version\n",
      "3.6.4 |Anaconda, Inc.| (default, Jan 16 2018, 10:22:32) [MSC v.1900 64 bit (AMD64)]\n",
      "Version info\n",
      "sys.version_info(major=3, minor=6, micro=4, releaselevel='final', serial=0)\n"
     ]
    }
   ],
   "source": [
    "#python program to display the version\n",
    "import sys\n",
    "print(\"Python version\")\n",
    "print(sys.version)\n",
    "print(\"Version info\")\n",
    "print(sys.version_info)"
   ]
  },
  {
   "cell_type": "code",
   "execution_count": 48,
   "metadata": {},
   "outputs": [
    {
     "name": "stdout",
     "output_type": "stream",
     "text": [
      "Current date and time : 2022-02-07 14:49:02.609069\n",
      "2022-02-07 14:49:02\n"
     ]
    }
   ],
   "source": [
    "import datetime\n",
    "now=datetime.datetime.now()\n",
    "print(\"Current date and time :\",now)\n",
    "print(now.strftime(\"%Y-%m-%d %H:%M:%S\"))"
   ]
  },
  {
   "cell_type": "code",
   "execution_count": 51,
   "metadata": {},
   "outputs": [
    {
     "name": "stdout",
     "output_type": "stream",
     "text": [
      "Input the radius of the circle: 7\n",
      "The area of the circle with radius 7.0 is 153.93804002589985\n"
     ]
    }
   ],
   "source": [
    "#Python program to find area of a circle\n",
    "from math import pi\n",
    "r=float(input(\"Input the radius of the circle: \"))\n",
    "print(\"The area of the circle with radius \"+str(r)+\" is \"+str(pi * r**2))"
   ]
  },
  {
   "cell_type": "code",
   "execution_count": 52,
   "metadata": {},
   "outputs": [
    {
     "name": "stdout",
     "output_type": "stream",
     "text": [
      "Input your First name: Lata\n",
      "Input your Last name:Mangeshkar\n",
      "Hi Mangeshkar Lata\n"
     ]
    }
   ],
   "source": [
    "#Python program to display the name in the reverse order\n",
    "fname=input(\"Input your First name: \")\n",
    "lname=input(\"Input your Last name:\")\n",
    "print(\"Hi \"+lname+\" \"+fname)"
   ]
  },
  {
   "cell_type": "code",
   "execution_count": 53,
   "metadata": {},
   "outputs": [
    {
     "name": "stdout",
     "output_type": "stream",
     "text": [
      "Input an Integer: 2\n",
      "246\n"
     ]
    }
   ],
   "source": [
    "#Python program that accepts integer(n) and computes the the value n+nn+nnn\n",
    "a=int(input(\"Input an Integer: \"))\n",
    "n1=int(\"%s\" %a)\n",
    "n2=int(\"%s%s\" %(a,a))\n",
    "n3=int(\"%s%s%s\" %(a,a,a))\n",
    "print(n1+n2+n3)"
   ]
  },
  {
   "cell_type": "code",
   "execution_count": 54,
   "metadata": {},
   "outputs": [
    {
     "name": "stdout",
     "output_type": "stream",
     "text": [
      "2\n",
      "246\n"
     ]
    }
   ],
   "source": [
    "m = input()\n",
    "m1 = m+m\n",
    "m2 = m1+m\n",
    "print(int(m) + int(m1) + int(m2))"
   ]
  },
  {
   "cell_type": "code",
   "execution_count": 56,
   "metadata": {},
   "outputs": [
    {
     "name": "stdout",
     "output_type": "stream",
     "text": [
      "white Black\n"
     ]
    }
   ],
   "source": [
    "#Python program to display first and last color of the list\n",
    "l1=[\"white\",\"red\",\"blue\",\"Green\",\"Yellow\",\"Black\"]\n",
    "print(l1[0],l1[len(l1)-1])"
   ]
  },
  {
   "cell_type": "code",
   "execution_count": 60,
   "metadata": {},
   "outputs": [
    {
     "name": "stdout",
     "output_type": "stream",
     "text": [
      "exam date: 2022-02-08\n"
     ]
    }
   ],
   "source": [
    "#Python code to display the exam schedule date\n",
    "from datetime import date,timedelta\n",
    "t = date.today()+timedelta(1)\n",
    "print(\"exam date:\", t)"
   ]
  },
  {
   "cell_type": "code",
   "execution_count": 61,
   "metadata": {},
   "outputs": [
    {
     "name": "stdout",
     "output_type": "stream",
     "text": [
      "Enter the File nametest.docx\n",
      "docx\n"
     ]
    }
   ],
   "source": [
    "file=input(\"Enter the File name\")\n",
    "print(file.split(\".\")[-1])"
   ]
  },
  {
   "cell_type": "markdown",
   "metadata": {},
   "source": [
    "## Functions"
   ]
  },
  {
   "cell_type": "code",
   "execution_count": 9,
   "metadata": {},
   "outputs": [
    {
     "name": "stdout",
     "output_type": "stream",
     "text": [
      "Absolute value of -20 is 20\n",
      "Absolute value of -20.675 is 20.675\n",
      "Absolute value of -20-5j is 20.615528128088304\n"
     ]
    }
   ],
   "source": [
    "#python abs() function\n",
    "\n",
    "integer = -20\n",
    "print(\"Absolute value of -20 is\",abs(integer))\n",
    "\n",
    "floating = -20.675\n",
    "print(\"Absolute value of -20.675 is\",abs(floating))\n",
    "\n",
    "complex1 = -20 - 5j\n",
    "print(\"Absolute value of -20-5j is\",abs(complex1))"
   ]
  },
  {
   "cell_type": "code",
   "execution_count": 31,
   "metadata": {},
   "outputs": [
    {
     "name": "stdout",
     "output_type": "stream",
     "text": [
      "True\n",
      "False\n",
      "False\n",
      "True\n",
      "True\n"
     ]
    }
   ],
   "source": [
    "# python all() function\n",
    "\n",
    "k=[1,3,4,6]\n",
    "print(all(k)) #return true\n",
    "\n",
    "k=[0,False]\n",
    "print(all(k)) #return false\n",
    "\n",
    "k=[1,0,3,5]\n",
    "print(all(k)) #return false\n",
    "\n",
    "k=[]\n",
    "print(all(k)) #return true\n",
    "\n",
    "k=[-2,-1]\n",
    "print(all(k))"
   ]
  },
  {
   "cell_type": "code",
   "execution_count": 20,
   "metadata": {},
   "outputs": [
    {
     "name": "stdout",
     "output_type": "stream",
     "text": [
      "0b1010\n"
     ]
    }
   ],
   "source": [
    "# python bin() function\n",
    "# It always starts with prefix 0b\n",
    "\n",
    "x=10\n",
    "y=bin(x)\n",
    "print(y)"
   ]
  },
  {
   "cell_type": "code",
   "execution_count": 22,
   "metadata": {},
   "outputs": [
    {
     "name": "stdout",
     "output_type": "stream",
     "text": [
      "True\n",
      "12\n"
     ]
    }
   ],
   "source": [
    "#exec() function & accepts single expression\n",
    "x=8\n",
    "exec('print(x==8)') #returns true\n",
    "exec('print(x+4)') #returns 12"
   ]
  },
  {
   "cell_type": "code",
   "execution_count": 24,
   "metadata": {},
   "outputs": [
    {
     "name": "stdout",
     "output_type": "stream",
     "text": [
      "11\n"
     ]
    }
   ],
   "source": [
    "#sum() function\n",
    "\n",
    "s=sum([1,2,3,5])\n",
    "print(s)"
   ]
  },
  {
   "cell_type": "code",
   "execution_count": 30,
   "metadata": {},
   "outputs": [
    {
     "name": "stdout",
     "output_type": "stream",
     "text": [
      "True\n",
      "False\n",
      "True\n",
      "False\n",
      "True\n"
     ]
    }
   ],
   "source": [
    "#any() function\n",
    "k=[1,3,4,6]\n",
    "print(any(k)) #return true\n",
    "\n",
    "k=[0,False]\n",
    "print(any(k)) #return false\n",
    "\n",
    "k=[1,0,3,5]\n",
    "print(any(k)) #return true, if at least any one value is True\n",
    "\n",
    "k=[]\n",
    "print(any(k)) #return false\n",
    "\n",
    "\n",
    "k=[-2,-1]\n",
    "print(any(k)) #return true"
   ]
  },
  {
   "cell_type": "code",
   "execution_count": 38,
   "metadata": {},
   "outputs": [
    {
     "name": "stdout",
     "output_type": "stream",
     "text": [
      "28\n",
      "28.782000\n",
      "11100\n",
      "13\n"
     ]
    }
   ],
   "source": [
    "#format() function\n",
    "\n",
    "# d,f,b and o are a type\n",
    "#integer\n",
    "print(format(28,\"d\"))\n",
    "\n",
    "#floating arguments\n",
    "print(format(28.782,\"f\"))\n",
    "\n",
    "#binary format\n",
    "print(format(28,\"b\"))\n",
    "\n",
    "#Octal format\n",
    "print(format(11,\"o\"))"
   ]
  },
  {
   "cell_type": "code",
   "execution_count": 39,
   "metadata": {},
   "outputs": [
    {
     "name": "stdout",
     "output_type": "stream",
     "text": [
      "5\n"
     ]
    }
   ],
   "source": [
    "#len() function\n",
    "strA=\"Bajaj\"\n",
    "print(len(strA))"
   ]
  },
  {
   "cell_type": "code",
   "execution_count": 46,
   "metadata": {},
   "outputs": [
    {
     "name": "stdout",
     "output_type": "stream",
     "text": [
      "['b', 'a', 'j', 'a', 'j']\n",
      "[1, 2, 3, 4, 5, 6]\n",
      "[1, 3, 5, 7]\n"
     ]
    }
   ],
   "source": [
    "#list() function\n",
    "\n",
    "49+++\n",
    "#string\n",
    "s='bajaj'\n",
    "print(list(s))\n",
    "\n",
    "#tuple\n",
    "t=(1,2,3,4,5,6)\n",
    "print(list(t))\n",
    "\n",
    "#list\n",
    "l=[1,3,5,7]\n",
    "print(list(l))"
   ]
  },
  {
   "cell_type": "code",
   "execution_count": 48,
   "metadata": {},
   "outputs": [
    {
     "name": "stdout",
     "output_type": "stream",
     "text": [
      "(3, 1)\n"
     ]
    }
   ],
   "source": [
    "#divmod() function - quotient and remainder is returned in tuple format\n",
    "\n",
    "result = divmod(10,3)\n",
    "print(result)"
   ]
  },
  {
   "cell_type": "code",
   "execution_count": 50,
   "metadata": {},
   "outputs": [
    {
     "name": "stdout",
     "output_type": "stream",
     "text": [
      "16 is the max.\n"
     ]
    }
   ],
   "source": [
    "# Write a Python function to find the Max of three numbers.\n",
    "def max(a,b,c):\n",
    "    if(a>b and a>c):\n",
    "        print(a,\"is the max.\")\n",
    "    elif(b>a and b>c):\n",
    "        print(b,\"is the max.\")\n",
    "    elif(c>b and c>a):\n",
    "        print(c,\"is the max.\")\n",
    "    else:\n",
    "        print(\"Either of the two numbers are greater.\")\n",
    "max(2,16,12)"
   ]
  },
  {
   "cell_type": "code",
   "execution_count": 52,
   "metadata": {},
   "outputs": [
    {
     "name": "stdout",
     "output_type": "stream",
     "text": [
      "Sum of the elements in the list is 20\n"
     ]
    }
   ],
   "source": [
    "# Write a Python function to sum all the numbers in a list.\n",
    "# Sample List : (8, 2, 3, 0, 7)\n",
    "def sum1(l):\n",
    "    s=0\n",
    "    for i in l:\n",
    "        s+=i\n",
    "    print(\"Sum of the elements in the list is\",s)\n",
    "sum1([8, 2, 3, 0, 7])"
   ]
  },
  {
   "cell_type": "code",
   "execution_count": 53,
   "metadata": {},
   "outputs": [
    {
     "name": "stdout",
     "output_type": "stream",
     "text": [
      "The product of all the elements in the list is -336\n"
     ]
    }
   ],
   "source": [
    "# Write a Python function to multiply all the numbers in a list.\n",
    "# Sample List : (8, 2, 3, -1, 7)\n",
    "def mul(l):\n",
    "    s=1\n",
    "    for i in l:\n",
    "        s*=i\n",
    "    print(\"The product of all the elements in the list is\",s)\n",
    "mul([8, 2, 3, -1, 7])"
   ]
  },
  {
   "cell_type": "code",
   "execution_count": 54,
   "metadata": {},
   "outputs": [
    {
     "name": "stdout",
     "output_type": "stream",
     "text": [
      "1234abcd\n",
      "dcba4321\n"
     ]
    }
   ],
   "source": [
    "# Write a Python program to reverse a string.\n",
    "# Sample String : \"1234abcd\"\n",
    "s=input()\n",
    "s1=s[::-1]\n",
    "print(s1)"
   ]
  },
  {
   "cell_type": "code",
   "execution_count": 55,
   "metadata": {},
   "outputs": [
    {
     "name": "stdout",
     "output_type": "stream",
     "text": [
      "Enter a number to find factorial: 5\n",
      "The factorial of 5 is 120\n"
     ]
    }
   ],
   "source": [
    "# Write a Python function to calculate the factorial of a number \n",
    "# (a non-negative integer). The function accepts the number as an argument.\n",
    "def fact(n):\n",
    "    s=1\n",
    "    for i in range(1,n+1):\n",
    "        s*=i\n",
    "    print(\"The factorial of\",n,\"is\",s)\n",
    "fact(int(input(\"Enter a number to find factorial: \")))"
   ]
  },
  {
   "cell_type": "code",
   "execution_count": 58,
   "metadata": {},
   "outputs": [
    {
     "name": "stdout",
     "output_type": "stream",
     "text": [
      "Enter a number: 10\n",
      "Enter the starting value for range: 8\n",
      "Enter the ending value for range: 108\n",
      "The number 10 falls in the given range 8 to 108\n"
     ]
    }
   ],
   "source": [
    "# Write a Python function to check whether a number falls in a given range.\n",
    "def check(n,a,b):\n",
    "    if(n>=a and n<=b):\n",
    "        print(\"The number\",n,\"falls in the given range\",a,\"to\",b)\n",
    "    else:\n",
    "        print(\"The number\",n,\"does not falls in the given range\",a,\"to\",b)\n",
    "n=int(input(\"Enter a number: \"))\n",
    "a=int(input(\"Enter the starting value for range: \"))\n",
    "b=int(input(\"Enter the ending value for range: \"))\n",
    "check(n,a,b)"
   ]
  },
  {
   "cell_type": "code",
   "execution_count": 59,
   "metadata": {},
   "outputs": [
    {
     "name": "stdout",
     "output_type": "stream",
     "text": [
      "The even numbers in the given list are:  [2, 4, 10, 18, 6, 14]\n"
     ]
    }
   ],
   "source": [
    "# Write a Python program to print the even numbers from a given list.\n",
    "def even(l):\n",
    "    l1=[]\n",
    "    for i in l:\n",
    "        if(i%2==0):\n",
    "            l1.append(i)\n",
    "    print(\"The even numbers in the given list are: \",l1)\n",
    "even([1,2,4,3,7,9,10,15,18,6,14])"
   ]
  },
  {
   "cell_type": "code",
   "execution_count": null,
   "metadata": {},
   "outputs": [],
   "source": []
  }
 ],
 "metadata": {
  "kernelspec": {
   "display_name": "Python 3",
   "language": "python",
   "name": "python3"
  },
  "language_info": {
   "codemirror_mode": {
    "name": "ipython",
    "version": 3
   },
   "file_extension": ".py",
   "mimetype": "text/x-python",
   "name": "python",
   "nbconvert_exporter": "python",
   "pygments_lexer": "ipython3",
   "version": "3.6.4"
  }
 },
 "nbformat": 4,
 "nbformat_minor": 2
}
